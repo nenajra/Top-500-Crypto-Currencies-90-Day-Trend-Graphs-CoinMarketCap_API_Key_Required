{
 "cells": [
  {
   "cell_type": "code",
   "execution_count": 191,
   "id": "61d8e351",
   "metadata": {},
   "outputs": [],
   "source": [
    "import pandas as pd\n",
    "import requests\n",
    "from requests import Request, Session\n",
    "from requests.exceptions import ConnectionError, Timeout, TooManyRedirects\n",
    "import json\n",
    "from ipywidgets import interact, interactive, fixed, interact_manual\n",
    "import ipywidgets as widgets\n",
    "from datetime import datetime,date,timedelta\n",
    "import matplotlib.pyplot  as plt"
   ]
  },
  {
   "cell_type": "code",
   "execution_count": 199,
   "id": "3559fa93",
   "metadata": {},
   "outputs": [
    {
     "name": "stdout",
     "output_type": "stream",
     "text": [
      "Enter your coinmarketcap API key: b2da9a8a-d2cc-44df-85e6-2b38dc6f150a\n"
     ]
    }
   ],
   "source": [
    "#The Module will prompt you for your CoinMarketCap API Key \n",
    "#...it will then use your Key to query and pull the top 500 Cryptos continaing current to 90 day prior price change data\n",
    "\n",
    "crypto_data = []\n",
    "api_key = input('Enter your coinmarketcap API key: ')\n",
    "url = 'https://pro-api.coinmarketcap.com/v1/cryptocurrency/listings/latest'\n",
    "parameters = {\n",
    "  'start':'1',\n",
    "  'limit':'500',\n",
    "  'convert':'USD'\n",
    "}\n",
    "headers = {\n",
    "  'Accepts': 'application/json',\n",
    "  'X-CMC_PRO_API_KEY': '{}'.format(api_key),\n",
    "}\n",
    "\n",
    "session = Session()\n",
    "session.headers.update(headers)\n",
    "\n",
    "try:\n",
    "    response = session.get(url, params=parameters)\n",
    "    data = json.loads(response.text)\n",
    "    df = pd.json_normalize(data['data'])\n",
    "\n",
    "except (ConnectionError, Timeout, TooManyRedirects) as e:\n",
    "    print ('Error')\n"
   ]
  },
  {
   "cell_type": "code",
   "execution_count": 205,
   "id": "c7e2bbd4",
   "metadata": {},
   "outputs": [],
   "source": [
    "#This module defines the functions used to format and plot the price change graphs as well as the drop down widget\n",
    "\n",
    "def f(Crypto):\n",
    "    current_price = df[df['name'] == Crypto]['quote.USD.price'].item()\n",
    "    price_1h = current_price + (current_price * df[df['name'] == Crypto]['quote.USD.percent_change_1h'].item()/100)\n",
    "    price_24h = current_price + (current_price * df[df['name'] == Crypto]['quote.USD.percent_change_24h'].item()/100)\n",
    "    price_7d = current_price + (current_price * df[df['name'] == Crypto]['quote.USD.percent_change_7d'].item()/100)\n",
    "    price_30d = current_price + (current_price * df[df['name'] == Crypto]['quote.USD.percent_change_30d'].item()/100)\n",
    "    price_60d = current_price + (current_price * df[df['name'] == Crypto]['quote.USD.percent_change_60d'].item()/100)\n",
    "    price_90d = current_price + (current_price * df[df['name'] == Crypto]['quote.USD.percent_change_90d'].item()/100)\n",
    "    \n",
    "    date_1 = (datetime.now() - timedelta(1)).strftime(\"%y%m%d\")\n",
    "    date_7 = (datetime.now() - timedelta(7)).strftime(\"%y%m%d\")\n",
    "    date_30 = (datetime.now() - timedelta(30)).strftime(\"%y%m%d\")\n",
    "    date_60 = (datetime.now() - timedelta(60)).strftime(\"%y%m%d\")\n",
    "    date_90 = (datetime.now() - timedelta(90)).strftime(\"%y%m%d\")\n",
    "    \n",
    "    y=[price_90d,price_60d,price_30d,price_7d,price_24h,current_price]\n",
    "    x=[date_90,date_60,date_30,date_7,date_1, datetime.now().strftime(\"%y%m%d\")]\n",
    "    plt.plot(x,y)\n",
    "    plt.title('{}: 90 Day Price VS. Current'.format(Crypto))\n",
    "    plt.xlabel('Date (YYMMDD)')\n",
    "    plt.ylabel('Price ($USD)')\n",
    "    plt.show()\n",
    "    \n",
    "    print('Current Value (USD): ${}'.format(current_price))    \n",
    "    print('1 Hour Value (USD): ${}'.format(price_1h))\n",
    "    print('24 Hour Value (USD): ${}'.format(price_24h))\n",
    "    print('7 Day Value (USD): ${}'.format(price_7d))\n",
    "    print('30 Day Value (USD): ${}'.format(price_30d))\n",
    "    print('60 Day Value (USD): ${}'.format(price_60d))\n",
    "    print('90 Day Value (USD): ${}'.format(price_90d))\n",
    "    \n",
    "def graph_cryptos():\n",
    "    names=set(df['name'])\n",
    "    names=sorted(names)\n",
    "    interact(f, Crypto=names)"
   ]
  },
  {
   "cell_type": "code",
   "execution_count": 206,
   "id": "e4432564",
   "metadata": {},
   "outputs": [
    {
     "data": {
      "application/vnd.jupyter.widget-view+json": {
       "model_id": "fc4990b46c92458596746d5eac51f5c0",
       "version_major": 2,
       "version_minor": 0
      },
      "text/plain": [
       "interactive(children=(Dropdown(description='Crypto', options=('0x', '1eco', '1inch Network', 'ABBC Coin', 'AIO…"
      ]
     },
     "metadata": {},
     "output_type": "display_data"
    }
   ],
   "source": [
    "#This module builds the visualization\n",
    "\n",
    "graph_cryptos()"
   ]
  }
 ],
 "metadata": {
  "kernelspec": {
   "display_name": "Python 3 (ipykernel)",
   "language": "python",
   "name": "python3"
  },
  "language_info": {
   "codemirror_mode": {
    "name": "ipython",
    "version": 3
   },
   "file_extension": ".py",
   "mimetype": "text/x-python",
   "name": "python",
   "nbconvert_exporter": "python",
   "pygments_lexer": "ipython3",
   "version": "3.9.9"
  }
 },
 "nbformat": 4,
 "nbformat_minor": 5
}
